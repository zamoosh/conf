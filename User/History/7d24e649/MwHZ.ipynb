{
 "cells": [
  {
   "cell_type": "code",
   "execution_count": 2,
   "metadata": {},
   "outputs": [],
   "source": [
    "import pandas as pd\n",
    "\n",
    "xls: pd.DataFrame = pd.ExcelFile(\"/home/zamoosh/Downloads/khotbeh.xlsx\")"
   ]
  },
  {
   "cell_type": "markdown",
   "metadata": {},
   "source": [
    " "
   ]
  },
  {
   "cell_type": "code",
   "execution_count": 17,
   "metadata": {},
   "outputs": [],
   "source": [
    "df: pd.DataFrame = xls.parse(\"31\", header=None)"
   ]
  },
  {
   "cell_type": "code",
   "execution_count": 18,
   "metadata": {},
   "outputs": [
    {
     "data": {
      "text/html": [
       "<div>\n",
       "<style scoped>\n",
       "    .dataframe tbody tr th:only-of-type {\n",
       "        vertical-align: middle;\n",
       "    }\n",
       "\n",
       "    .dataframe tbody tr th {\n",
       "        vertical-align: top;\n",
       "    }\n",
       "\n",
       "    .dataframe thead th {\n",
       "        text-align: right;\n",
       "    }\n",
       "</style>\n",
       "<table border=\"1\" class=\"dataframe\">\n",
       "  <thead>\n",
       "    <tr style=\"text-align: right;\">\n",
       "      <th></th>\n",
       "      <th>0</th>\n",
       "      <th>1</th>\n",
       "      <th>2</th>\n",
       "      <th>3</th>\n",
       "      <th>4</th>\n",
       "      <th>5</th>\n",
       "      <th>6</th>\n",
       "      <th>7</th>\n",
       "    </tr>\n",
       "  </thead>\n",
       "  <tbody>\n",
       "    <tr>\n",
       "      <th>count</th>\n",
       "      <td>1</td>\n",
       "      <td>1</td>\n",
       "      <td>1</td>\n",
       "      <td>1</td>\n",
       "      <td>2</td>\n",
       "      <td>1</td>\n",
       "      <td>1</td>\n",
       "      <td>1</td>\n",
       "    </tr>\n",
       "    <tr>\n",
       "      <th>unique</th>\n",
       "      <td>1</td>\n",
       "      <td>1</td>\n",
       "      <td>1</td>\n",
       "      <td>1</td>\n",
       "      <td>2</td>\n",
       "      <td>1</td>\n",
       "      <td>1</td>\n",
       "      <td>1</td>\n",
       "    </tr>\n",
       "    <tr>\n",
       "      <th>top</th>\n",
       "      <td>\\nو من كلام له (عليه السلام) لما أنفذ عبد الله...</td>\n",
       "      <td>( در آغاز جنگ جمل در سال 36.هجرى، ابن عباس  را...</td>\n",
       "      <td>نفسیة طلحة و الزبیر</td>\n",
       "      <td>روانشناسی طلحه و زبیر</td>\n",
       "      <td>\\nلَا تَلْقَيَنَّ طَلْحَةَ فَإِنَّكَ إِنْ تَلْ...</td>\n",
       "      <td>با طلحه، ديدار مكن، زيرا در برخورد با طلحه، ا...</td>\n",
       "      <td>قال السيد الشريف : و هو (عليه السلام) أول من س...</td>\n",
       "      <td>\\n(جمله كوتاه «فما عدا ممّا بدا» براى نخستين ب...</td>\n",
       "    </tr>\n",
       "    <tr>\n",
       "      <th>freq</th>\n",
       "      <td>1</td>\n",
       "      <td>1</td>\n",
       "      <td>1</td>\n",
       "      <td>1</td>\n",
       "      <td>1</td>\n",
       "      <td>1</td>\n",
       "      <td>1</td>\n",
       "      <td>1</td>\n",
       "    </tr>\n",
       "  </tbody>\n",
       "</table>\n",
       "</div>"
      ],
      "text/plain": [
       "                                                        0  \\\n",
       "count                                                   1   \n",
       "unique                                                  1   \n",
       "top     \\nو من كلام له (عليه السلام) لما أنفذ عبد الله...   \n",
       "freq                                                    1   \n",
       "\n",
       "                                                        1  \\\n",
       "count                                                   1   \n",
       "unique                                                  1   \n",
       "top     ( در آغاز جنگ جمل در سال 36.هجرى، ابن عباس  را...   \n",
       "freq                                                    1   \n",
       "\n",
       "                          2                      3  \\\n",
       "count                     1                      1   \n",
       "unique                    1                      1   \n",
       "top     نفسیة طلحة و الزبیر  روانشناسی طلحه و زبیر   \n",
       "freq                      1                      1   \n",
       "\n",
       "                                                        4  \\\n",
       "count                                                   2   \n",
       "unique                                                  2   \n",
       "top     \\nلَا تَلْقَيَنَّ طَلْحَةَ فَإِنَّكَ إِنْ تَلْ...   \n",
       "freq                                                    1   \n",
       "\n",
       "                                                        5  \\\n",
       "count                                                   1   \n",
       "unique                                                  1   \n",
       "top      با طلحه، ديدار مكن، زيرا در برخورد با طلحه، ا...   \n",
       "freq                                                    1   \n",
       "\n",
       "                                                        6  \\\n",
       "count                                                   1   \n",
       "unique                                                  1   \n",
       "top     قال السيد الشريف : و هو (عليه السلام) أول من س...   \n",
       "freq                                                    1   \n",
       "\n",
       "                                                        7  \n",
       "count                                                   1  \n",
       "unique                                                  1  \n",
       "top     \\n(جمله كوتاه «فما عدا ممّا بدا» براى نخستين ب...  \n",
       "freq                                                    1  "
      ]
     },
     "execution_count": 18,
     "metadata": {},
     "output_type": "execute_result"
    }
   ],
   "source": [
    "df.describe()"
   ]
  },
  {
   "cell_type": "code",
   "execution_count": 20,
   "metadata": {},
   "outputs": [
    {
     "name": "stdout",
     "output_type": "stream",
     "text": [
      "<class 'pandas.core.frame.DataFrame'>\n",
      "RangeIndex: 2 entries, 0 to 1\n",
      "Data columns (total 8 columns):\n",
      " #   Column  Non-Null Count  Dtype \n",
      "---  ------  --------------  ----- \n",
      " 0   0       1 non-null      object\n",
      " 1   1       1 non-null      object\n",
      " 2   2       1 non-null      object\n",
      " 3   3       1 non-null      object\n",
      " 4   4       2 non-null      object\n",
      " 5   5       1 non-null      object\n",
      " 6   6       1 non-null      object\n",
      " 7   7       1 non-null      object\n",
      "dtypes: object(8)\n",
      "memory usage: 260.0+ bytes\n"
     ]
    }
   ],
   "source": [
    "df.info()"
   ]
  },
  {
   "cell_type": "code",
   "execution_count": 26,
   "metadata": {},
   "outputs": [
    {
     "name": "stdout",
     "output_type": "stream",
     "text": [
      "و من كلام له (عليه السلام) لما أنفذ عبد الله بن عباس إلى الزبير يستفيئه إلى طاعته قبل حرب الجمل : <h2>نفسیة طلحة و الزبیر</h2>\n",
      "\n",
      "لَا تَلْقَيَنَّ طَلْحَةَ فَإِنَّكَ إِنْ تَلْقَهُ تَجِدْهُ كَالثَّوْرِ عَاقِصاً قَرْنَهُ يَرْكَبُ الصَّعْبَ وَ يَقُولُ هُوَ الذَّلُولُ وَ لَكِنِ الْقَ الزُّبَيْرَ فَإِنَّهُ أَلْيَنُ عَرِيكَةً فَقُلْ لَهُ يَقُولُ لَكَ ابْنُ خَالِكَ عَرَفْتَنِي بِالْحِجَازِ وَ أَنْكَرْتَنِي بِالْعِرَاقِ فَمَا عَدَا مِمَّا بَدَا .\n",
      "و من كلام له (عليه السلام) لما أنفذ عبد الله بن عباس إلى الزبير يستفيئه إلى طاعته قبل حرب الجمل : <h2>نفسیة طلحة و الزبیر</h2>\n",
      "\n",
      "لَا تَلْقَيَنَّ طَلْحَةَ فَإِنَّكَ إِنْ تَلْقَهُ تَجِدْهُ كَالثَّوْرِ عَاقِصاً قَرْنَهُ يَرْكَبُ الصَّعْبَ وَ يَقُولُ هُوَ الذَّلُولُ وَ لَكِنِ الْقَ الزُّبَيْرَ فَإِنَّهُ أَلْيَنُ عَرِيكَةً فَقُلْ لَهُ يَقُولُ لَكَ ابْنُ خَالِكَ عَرَفْتَنِي بِالْحِجَازِ وَ أَنْكَرْتَنِي بِالْعِرَاقِ فَمَا عَدَا مِمَّا بَدَا .<h2>nan</h2>\n",
      "\n",
      "\n"
     ]
    }
   ],
   "source": [
    "catalogue_name = \"\"\n",
    "content_body = \"\"\n",
    "\n",
    "for row in df.itertuples():  # type: pd.core.frame.Pandas\n",
    "\n",
    "    for col in range(len(row)):  # type: int\n",
    "\n",
    "        if row[0] == 0 and col == 1:\n",
    "            catalogue_name += f\"{row[col].strip()}\"\n",
    "\n",
    "        if col == 3 and len(str(row[col]).strip()) > 0:\n",
    "            content_body += f\"<h2>{str(row[col]).strip()}</h2>\\n\\n\"\n",
    "\n",
    "        if col == 5 and len(str(row[col]).strip()) > 0:\n",
    "            content_body += row[col].strip()\n",
    "\n",
    "    print(catalogue_name, content_body)"
   ]
  }
 ],
 "metadata": {
  "kernelspec": {
   "display_name": "cms-back",
   "language": "python",
   "name": "python3"
  },
  "language_info": {
   "codemirror_mode": {
    "name": "ipython",
    "version": 3
   },
   "file_extension": ".py",
   "mimetype": "text/x-python",
   "name": "python",
   "nbconvert_exporter": "python",
   "pygments_lexer": "ipython3",
   "version": "3.12.3"
  }
 },
 "nbformat": 4,
 "nbformat_minor": 2
}
