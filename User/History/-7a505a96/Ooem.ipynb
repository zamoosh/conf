{
 "cells": [
  {
   "cell_type": "code",
   "execution_count": 1,
   "id": "initial_id",
   "metadata": {
    "ExecuteTime": {
     "end_time": "2024-07-05T21:14:56.349115Z",
     "start_time": "2024-07-05T21:14:56.344423Z"
    },
    "collapsed": true
   },
   "outputs": [],
   "source": [
    "import pandas as pd\n",
    "import numpy as np\n",
    "from pandas import DataFrame\n",
    "from pandas.core.indexes.base import Index\n",
    "from pandas.core.series import Series\n",
    "from typing import Any\n",
    "from colorful_logging import c_print"
   ]
  },
  {
   "cell_type": "markdown",
   "id": "08c277ae",
   "metadata": {},
   "source": [
    "##### **Read EXCEL**, in this case, **khotbeh.xlsx**"
   ]
  },
  {
   "cell_type": "code",
   "execution_count": 2,
   "id": "ebc5eca1e809c3ad",
   "metadata": {
    "collapsed": false
   },
   "outputs": [],
   "source": [
    "# xls: pd.ExcelFile = pd.ExcelFile(\"/home/zamoosh/Downloads/khotbeh.xlsx\")\n",
    "xls: pd.ExcelFile = pd.ExcelFile(\"/home/zamoosh/Downloads/hekmat.xlsx\")"
   ]
  },
  {
   "cell_type": "markdown",
   "id": "fa1bdcdf",
   "metadata": {},
   "source": [
    "<br />\n",
    "\n",
    "Select the sheet you want to analyze. For example, sheet named \"31\""
   ]
  },
  {
   "cell_type": "code",
   "execution_count": 3,
   "id": "89ba4f0ad01807c2",
   "metadata": {
    "ExecuteTime": {
     "end_time": "2024-07-05T20:43:21.916596Z",
     "start_time": "2024-07-05T20:43:21.893277Z"
    },
    "collapsed": false
   },
   "outputs": [],
   "source": [
    "df: DataFrame = xls.parse(\"209\", header=None)"
   ]
  },
  {
   "cell_type": "markdown",
   "id": "6bb8ed22",
   "metadata": {},
   "source": [
    "\n",
    "<br />\n",
    "\n",
    "Get rows of this sheet.\n",
    "\n",
    "Each row is a `Iterable[tuple[Hashable, Series]]`"
   ]
  },
  {
   "cell_type": "code",
   "execution_count": 4,
   "id": "3e69a8c6",
   "metadata": {},
   "outputs": [
    {
     "data": {
      "text/html": [
       "<div>\n",
       "<style scoped>\n",
       "    .dataframe tbody tr th:only-of-type {\n",
       "        vertical-align: middle;\n",
       "    }\n",
       "\n",
       "    .dataframe tbody tr th {\n",
       "        vertical-align: top;\n",
       "    }\n",
       "\n",
       "    .dataframe thead th {\n",
       "        text-align: right;\n",
       "    }\n",
       "</style>\n",
       "<table border=\"1\" class=\"dataframe\">\n",
       "  <thead>\n",
       "    <tr style=\"text-align: right;\">\n",
       "      <th></th>\n",
       "      <th>0</th>\n",
       "      <th>1</th>\n",
       "      <th>2</th>\n",
       "      <th>3</th>\n",
       "      <th>4</th>\n",
       "      <th>5</th>\n",
       "    </tr>\n",
       "  </thead>\n",
       "  <tbody>\n",
       "    <tr>\n",
       "      <th>0</th>\n",
       "      <td>وَ قَالَ (عليه السلام):</td>\n",
       "      <td>و درود خدا بر او، فرمود:</td>\n",
       "      <td>الإخبار بظهور المهدي(عج)</td>\n",
       "      <td>NaN</td>\n",
       "      <td>NaN</td>\n",
       "      <td>NaN</td>\n",
       "    </tr>\n",
       "    <tr>\n",
       "      <th>1</th>\n",
       "      <td>NaN</td>\n",
       "      <td>NaN</td>\n",
       "      <td>NaN</td>\n",
       "      <td>NaN</td>\n",
       "      <td>NaN</td>\n",
       "      <td>NaN</td>\n",
       "    </tr>\n",
       "    <tr>\n",
       "      <th>2</th>\n",
       "      <td>NaN</td>\n",
       "      <td>NaN</td>\n",
       "      <td>NaN</td>\n",
       "      <td>NaN</td>\n",
       "      <td>NaN</td>\n",
       "      <td>NaN</td>\n",
       "    </tr>\n",
       "    <tr>\n",
       "      <th>3</th>\n",
       "      <td>وَ قَالَ (عليه السلام):</td>\n",
       "      <td>و درود خدا بر او، فرمود:</td>\n",
       "      <td>الإخبار بظهور المهدي (عج)</td>\n",
       "      <td>خبر از ظهور حضرت مهدى (عليه السّلام)</td>\n",
       "      <td>لَتَعْطِفَنَّ الدُّنْيَا عَلَيْنَا بَعْدَ شِمَ...</td>\n",
       "      <td>دنيا پس از سركشى، به ما روى مى كند، چونان شتر ...</td>\n",
       "    </tr>\n",
       "  </tbody>\n",
       "</table>\n",
       "</div>"
      ],
      "text/plain": [
       "                          0                         1  \\\n",
       "0  وَ قَالَ (عليه السلام):   و درود خدا بر او، فرمود:   \n",
       "1                       NaN                       NaN   \n",
       "2                       NaN                       NaN   \n",
       "3  وَ قَالَ (عليه السلام):   و درود خدا بر او، فرمود:   \n",
       "\n",
       "                           2                                      3  \\\n",
       "0   الإخبار بظهور المهدي(عج)                                    NaN   \n",
       "1                        NaN                                    NaN   \n",
       "2                        NaN                                    NaN   \n",
       "3  الإخبار بظهور المهدي (عج)  خبر از ظهور حضرت مهدى (عليه السّلام)    \n",
       "\n",
       "                                                   4  \\\n",
       "0                                                NaN   \n",
       "1                                                NaN   \n",
       "2                                                NaN   \n",
       "3  لَتَعْطِفَنَّ الدُّنْيَا عَلَيْنَا بَعْدَ شِمَ...   \n",
       "\n",
       "                                                   5  \n",
       "0                                                NaN  \n",
       "1                                                NaN  \n",
       "2                                                NaN  \n",
       "3  دنيا پس از سركشى، به ما روى مى كند، چونان شتر ...  "
      ]
     },
     "execution_count": 4,
     "metadata": {},
     "output_type": "execute_result"
    }
   ],
   "source": [
    "df"
   ]
  },
  {
   "cell_type": "code",
   "execution_count": 5,
   "id": "42973b11",
   "metadata": {},
   "outputs": [
    {
     "data": {
      "text/html": [
       "<div>\n",
       "<style scoped>\n",
       "    .dataframe tbody tr th:only-of-type {\n",
       "        vertical-align: middle;\n",
       "    }\n",
       "\n",
       "    .dataframe tbody tr th {\n",
       "        vertical-align: top;\n",
       "    }\n",
       "\n",
       "    .dataframe thead th {\n",
       "        text-align: right;\n",
       "    }\n",
       "</style>\n",
       "<table border=\"1\" class=\"dataframe\">\n",
       "  <thead>\n",
       "    <tr style=\"text-align: right;\">\n",
       "      <th></th>\n",
       "      <th>0</th>\n",
       "      <th>1</th>\n",
       "      <th>2</th>\n",
       "      <th>3</th>\n",
       "      <th>4</th>\n",
       "      <th>5</th>\n",
       "    </tr>\n",
       "  </thead>\n",
       "  <tbody>\n",
       "    <tr>\n",
       "      <th>0</th>\n",
       "      <td>وَ قَالَ (عليه السلام):</td>\n",
       "      <td>و درود خدا بر او، فرمود:</td>\n",
       "      <td>الإخبار بظهور المهدي(عج)</td>\n",
       "      <td></td>\n",
       "      <td></td>\n",
       "      <td></td>\n",
       "    </tr>\n",
       "    <tr>\n",
       "      <th>1</th>\n",
       "      <td></td>\n",
       "      <td></td>\n",
       "      <td></td>\n",
       "      <td></td>\n",
       "      <td></td>\n",
       "      <td></td>\n",
       "    </tr>\n",
       "    <tr>\n",
       "      <th>2</th>\n",
       "      <td></td>\n",
       "      <td></td>\n",
       "      <td></td>\n",
       "      <td></td>\n",
       "      <td></td>\n",
       "      <td></td>\n",
       "    </tr>\n",
       "    <tr>\n",
       "      <th>3</th>\n",
       "      <td>وَ قَالَ (عليه السلام):</td>\n",
       "      <td>و درود خدا بر او، فرمود:</td>\n",
       "      <td>الإخبار بظهور المهدي (عج)</td>\n",
       "      <td>خبر از ظهور حضرت مهدى (عليه السّلام)</td>\n",
       "      <td>لَتَعْطِفَنَّ الدُّنْيَا عَلَيْنَا بَعْدَ شِمَ...</td>\n",
       "      <td>دنيا پس از سركشى، به ما روى مى كند، چونان شتر ...</td>\n",
       "    </tr>\n",
       "  </tbody>\n",
       "</table>\n",
       "</div>"
      ],
      "text/plain": [
       "                          0                         1  \\\n",
       "0  وَ قَالَ (عليه السلام):   و درود خدا بر او، فرمود:   \n",
       "1                                                       \n",
       "2                                                       \n",
       "3  وَ قَالَ (عليه السلام):   و درود خدا بر او، فرمود:   \n",
       "\n",
       "                           2                                      3  \\\n",
       "0   الإخبار بظهور المهدي(عج)                                          \n",
       "1                                                                     \n",
       "2                                                                     \n",
       "3  الإخبار بظهور المهدي (عج)  خبر از ظهور حضرت مهدى (عليه السّلام)    \n",
       "\n",
       "                                                   4  \\\n",
       "0                                                      \n",
       "1                                                      \n",
       "2                                                      \n",
       "3  لَتَعْطِفَنَّ الدُّنْيَا عَلَيْنَا بَعْدَ شِمَ...   \n",
       "\n",
       "                                                   5  \n",
       "0                                                     \n",
       "1                                                     \n",
       "2                                                     \n",
       "3  دنيا پس از سركشى، به ما روى مى كند، چونان شتر ...  "
      ]
     },
     "execution_count": 5,
     "metadata": {},
     "output_type": "execute_result"
    }
   ],
   "source": [
    "df = df.fillna(\"\")\n",
    "df = df.replace(to_replace=r\"(\\.|x|X|\\n)\", value=\"\", regex=True)\n",
    "df"
   ]
  },
  {
   "cell_type": "code",
   "execution_count": 5,
   "id": "63bef9fb",
   "metadata": {},
   "outputs": [
    {
     "name": "stdout",
     "output_type": "stream",
     "text": [
      "0 98\n",
      "1 90\n",
      "2 19\n",
      "3 21\n",
      "4 312\n",
      "5 299\n",
      "6 91\n",
      "7 115\n"
     ]
    }
   ],
   "source": [
    "def only_series(item):\n",
    "    if type(item) == Series:\n",
    "        return True\n",
    "    else:\n",
    "        return False\n",
    "\n",
    "\n",
    "for row in df.iterrows():\n",
    "    \n",
    "\n",
    "    ser_list: list[Series] = list(filter(only_series, row))\n",
    "\n",
    "    for ser in ser_list:\n",
    "\n",
    "        if len(ser) // 2 <= pd.isnull(ser).sum():\n",
    "            continue\n",
    "\n",
    "        for col in range(len(ser)):\n",
    "            print(col, len(ser[col]))"
   ]
  },
  {
   "cell_type": "code",
   "execution_count": null,
   "id": "14831703",
   "metadata": {},
   "outputs": [],
   "source": [
    "row = list(df.iterrows())\n",
    "\n",
    "\n",
    "print(row[0])\n",
    "series: Series = row[0][1]\n",
    "\n",
    "print(\"\\n\")\n",
    "print(\"null cells: \", pd.isnull(row[1][1]).sum())\n",
    "print(\"max col size\", len(row[1][1]))"
   ]
  },
  {
   "cell_type": "code",
   "execution_count": 5,
   "id": "18aae0a31ded24f",
   "metadata": {
    "ExecuteTime": {
     "end_time": "2024-07-05T21:16:22.840570Z",
     "start_time": "2024-07-05T21:16:22.835492Z"
    },
    "collapsed": false
   },
   "outputs": [
    {
     "data": {
      "text/plain": [
       "7"
      ]
     },
     "execution_count": 5,
     "metadata": {},
     "output_type": "execute_result"
    }
   ],
   "source": [
    "row = list(df.iterrows())\n",
    "\n",
    "new_df: Series = row[1][1]\n",
    "pd.isnull(new_df).sum()"
   ]
  }
 ],
 "metadata": {
  "kernelspec": {
   "display_name": "Python 3",
   "language": "python",
   "name": "python3"
  },
  "language_info": {
   "codemirror_mode": {
    "name": "ipython",
    "version": 3
   },
   "file_extension": ".py",
   "mimetype": "text/x-python",
   "name": "python",
   "nbconvert_exporter": "python",
   "pygments_lexer": "ipython3",
   "version": "3.12.3"
  }
 },
 "nbformat": 4,
 "nbformat_minor": 5
}
