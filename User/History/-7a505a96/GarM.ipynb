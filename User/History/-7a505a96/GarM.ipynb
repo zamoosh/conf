{
 "cells": [
  {
   "cell_type": "code",
   "execution_count": 1,
   "id": "initial_id",
   "metadata": {
    "ExecuteTime": {
     "end_time": "2024-07-05T21:14:56.349115Z",
     "start_time": "2024-07-05T21:14:56.344423Z"
    },
    "collapsed": true
   },
   "outputs": [],
   "source": [
    "import pandas as pd\n",
    "import numpy as np\n",
    "from pandas import DataFrame\n",
    "from pandas.core.indexes.base import Index\n",
    "from pandas.core.series import Series\n",
    "from typing import Any\n",
    "from colorful_logging import c_print"
   ]
  },
  {
   "cell_type": "markdown",
   "id": "08c277ae",
   "metadata": {},
   "source": [
    "##### **Read EXCEL**, in this case, **khotbeh.xlsx**"
   ]
  },
  {
   "cell_type": "code",
   "execution_count": 2,
   "id": "ebc5eca1e809c3ad",
   "metadata": {
    "collapsed": false
   },
   "outputs": [],
   "source": [
    "xls: pd.ExcelFile = pd.ExcelFile(\"/home/zamoosh/Downloads/khotbeh.xlsx\")"
   ]
  },
  {
   "cell_type": "markdown",
   "id": "fa1bdcdf",
   "metadata": {},
   "source": [
    "<br />\n",
    "\n",
    "Select the sheet you want to analyze. For example, sheet named \"31\""
   ]
  },
  {
   "cell_type": "code",
   "execution_count": 33,
   "id": "89ba4f0ad01807c2",
   "metadata": {
    "ExecuteTime": {
     "end_time": "2024-07-05T20:43:21.916596Z",
     "start_time": "2024-07-05T20:43:21.893277Z"
    },
    "collapsed": false
   },
   "outputs": [],
   "source": [
    "df: DataFrame = xls.parse(\"99\", header=None)"
   ]
  },
  {
   "cell_type": "markdown",
   "id": "6bb8ed22",
   "metadata": {},
   "source": [
    "\n",
    "<br />\n",
    "\n",
    "Get rows of this sheet.\n",
    "\n",
    "Each row is a `Iterable[tuple[Hashable, Series]]`"
   ]
  },
  {
   "cell_type": "code",
   "execution_count": 34,
   "id": "3e69a8c6",
   "metadata": {},
   "outputs": [
    {
     "data": {
      "text/html": [
       "<div>\n",
       "<style scoped>\n",
       "    .dataframe tbody tr th:only-of-type {\n",
       "        vertical-align: middle;\n",
       "    }\n",
       "\n",
       "    .dataframe tbody tr th {\n",
       "        vertical-align: top;\n",
       "    }\n",
       "\n",
       "    .dataframe thead th {\n",
       "        text-align: right;\n",
       "    }\n",
       "</style>\n",
       "<table border=\"1\" class=\"dataframe\">\n",
       "  <thead>\n",
       "    <tr style=\"text-align: right;\">\n",
       "      <th></th>\n",
       "      <th>0</th>\n",
       "      <th>1</th>\n",
       "      <th>2</th>\n",
       "      <th>3</th>\n",
       "      <th>4</th>\n",
       "      <th>5</th>\n",
       "    </tr>\n",
       "  </thead>\n",
       "  <tbody>\n",
       "    <tr>\n",
       "      <th>0</th>\n",
       "      <td>ومن خطبة له (عليه السلام):</td>\n",
       "      <td>(زید بن وهب ، از اصحاب امام است، نقل می کند که...</td>\n",
       "      <td>طلب المعافة في الدين</td>\n",
       "      <td>x</td>\n",
       "      <td>حْمَدُهُ عَلَى مَا كَانَ وَ نَسْتَعِينُهُ مِنْ...</td>\n",
       "      <td>خدا را بر نعمت هايى كه عطا فرمود ستايش مى كنيم...</td>\n",
       "    </tr>\n",
       "    <tr>\n",
       "      <th>1</th>\n",
       "      <td>x</td>\n",
       "      <td>x</td>\n",
       "      <td>التحذير من الدنيا</td>\n",
       "      <td>پرهيز از دنيا پرستى</td>\n",
       "      <td>عِبَادَ اللَّهِ أُوصِيكُمْ بِالرَّفْضِ لِهَذِه...</td>\n",
       "      <td>اى بندگان خدا، شما را به ترك دنيايى سفارش مى ك...</td>\n",
       "    </tr>\n",
       "    <tr>\n",
       "      <th>2</th>\n",
       "      <td>x</td>\n",
       "      <td>x</td>\n",
       "      <td>كيفية مواجهة الدنيا</td>\n",
       "      <td>روش برخورد با دنيا</td>\n",
       "      <td>فلَا تَنَافَسُوا فِي عِزِّ الدُّنْيَا وَ فَخْر...</td>\n",
       "      <td>پس در عزّت و ناز دنيا بر يكديگر پيشى نگيريد، و...</td>\n",
       "    </tr>\n",
       "  </tbody>\n",
       "</table>\n",
       "</div>"
      ],
      "text/plain": [
       "                            0  \\\n",
       "0  ومن خطبة له (عليه السلام):   \n",
       "1                           x   \n",
       "2                           x   \n",
       "\n",
       "                                                   1                     2  \\\n",
       "0  (زید بن وهب ، از اصحاب امام است، نقل می کند که...  طلب المعافة في الدين   \n",
       "1                                                  x     التحذير من الدنيا   \n",
       "2                                                  x   كيفية مواجهة الدنيا   \n",
       "\n",
       "                     3                                                  4  \\\n",
       "0                    x  حْمَدُهُ عَلَى مَا كَانَ وَ نَسْتَعِينُهُ مِنْ...   \n",
       "1  پرهيز از دنيا پرستى  عِبَادَ اللَّهِ أُوصِيكُمْ بِالرَّفْضِ لِهَذِه...   \n",
       "2   روش برخورد با دنيا  فلَا تَنَافَسُوا فِي عِزِّ الدُّنْيَا وَ فَخْر...   \n",
       "\n",
       "                                                   5  \n",
       "0  خدا را بر نعمت هايى كه عطا فرمود ستايش مى كنيم...  \n",
       "1  اى بندگان خدا، شما را به ترك دنيايى سفارش مى ك...  \n",
       "2  پس در عزّت و ناز دنيا بر يكديگر پيشى نگيريد، و...  "
      ]
     },
     "execution_count": 34,
     "metadata": {},
     "output_type": "execute_result"
    }
   ],
   "source": [
    "df"
   ]
  },
  {
   "cell_type": "code",
   "execution_count": 35,
   "id": "42973b11",
   "metadata": {},
   "outputs": [
    {
     "data": {
      "text/html": [
       "<div>\n",
       "<style scoped>\n",
       "    .dataframe tbody tr th:only-of-type {\n",
       "        vertical-align: middle;\n",
       "    }\n",
       "\n",
       "    .dataframe tbody tr th {\n",
       "        vertical-align: top;\n",
       "    }\n",
       "\n",
       "    .dataframe thead th {\n",
       "        text-align: right;\n",
       "    }\n",
       "</style>\n",
       "<table border=\"1\" class=\"dataframe\">\n",
       "  <thead>\n",
       "    <tr style=\"text-align: right;\">\n",
       "      <th></th>\n",
       "      <th>0</th>\n",
       "      <th>1</th>\n",
       "      <th>2</th>\n",
       "      <th>3</th>\n",
       "      <th>4</th>\n",
       "      <th>5</th>\n",
       "    </tr>\n",
       "  </thead>\n",
       "  <tbody>\n",
       "    <tr>\n",
       "      <th>0</th>\n",
       "      <td>ومن خطبة له (عليه السلام):</td>\n",
       "      <td>(زید بن وهب ، از اصحاب امام است، نقل می کند که...</td>\n",
       "      <td>طلب المعافة في الدين</td>\n",
       "      <td></td>\n",
       "      <td>حْمَدُهُ عَلَى مَا كَانَ وَ نَسْتَعِينُهُ مِنْ...</td>\n",
       "      <td>خدا را بر نعمت هايى كه عطا فرمود ستايش مى كنيم...</td>\n",
       "    </tr>\n",
       "    <tr>\n",
       "      <th>1</th>\n",
       "      <td></td>\n",
       "      <td></td>\n",
       "      <td>التحذير من الدنيا</td>\n",
       "      <td>پرهيز از دنيا پرستى</td>\n",
       "      <td>عِبَادَ اللَّهِ أُوصِيكُمْ بِالرَّفْضِ لِهَذِه...</td>\n",
       "      <td>اى بندگان خدا، شما را به ترك دنيايى سفارش مى ك...</td>\n",
       "    </tr>\n",
       "    <tr>\n",
       "      <th>2</th>\n",
       "      <td></td>\n",
       "      <td></td>\n",
       "      <td>كيفية مواجهة الدنيا</td>\n",
       "      <td>روش برخورد با دنيا</td>\n",
       "      <td>فلَا تَنَافَسُوا فِي عِزِّ الدُّنْيَا وَ فَخْر...</td>\n",
       "      <td>پس در عزّت و ناز دنيا بر يكديگر پيشى نگيريد، و...</td>\n",
       "    </tr>\n",
       "  </tbody>\n",
       "</table>\n",
       "</div>"
      ],
      "text/plain": [
       "                            0  \\\n",
       "0  ومن خطبة له (عليه السلام):   \n",
       "1                               \n",
       "2                               \n",
       "\n",
       "                                                   1                     2  \\\n",
       "0  (زید بن وهب ، از اصحاب امام است، نقل می کند که...  طلب المعافة في الدين   \n",
       "1                                                        التحذير من الدنيا   \n",
       "2                                                      كيفية مواجهة الدنيا   \n",
       "\n",
       "                     3                                                  4  \\\n",
       "0                       حْمَدُهُ عَلَى مَا كَانَ وَ نَسْتَعِينُهُ مِنْ...   \n",
       "1  پرهيز از دنيا پرستى  عِبَادَ اللَّهِ أُوصِيكُمْ بِالرَّفْضِ لِهَذِه...   \n",
       "2   روش برخورد با دنيا  فلَا تَنَافَسُوا فِي عِزِّ الدُّنْيَا وَ فَخْر...   \n",
       "\n",
       "                                                   5  \n",
       "0  خدا را بر نعمت هايى كه عطا فرمود ستايش مى كنيم...  \n",
       "1  اى بندگان خدا، شما را به ترك دنيايى سفارش مى ك...  \n",
       "2  پس در عزّت و ناز دنيا بر يكديگر پيشى نگيريد، و...  "
      ]
     },
     "execution_count": 35,
     "metadata": {},
     "output_type": "execute_result"
    }
   ],
   "source": [
    "df = df.fillna(\"\")\n",
    "df = df.replace(to_replace=r\"(\\.|x|X|\\n)\", value=\"\", regex=True)\n",
    "df"
   ]
  },
  {
   "cell_type": "code",
   "execution_count": 5,
   "id": "63bef9fb",
   "metadata": {},
   "outputs": [
    {
     "name": "stdout",
     "output_type": "stream",
     "text": [
      "0 98\n",
      "1 90\n",
      "2 19\n",
      "3 21\n",
      "4 312\n",
      "5 299\n",
      "6 91\n",
      "7 115\n"
     ]
    }
   ],
   "source": [
    "def only_series(item):\n",
    "    if type(item) == Series:\n",
    "        return True\n",
    "    else:\n",
    "        return False\n",
    "\n",
    "\n",
    "for row in df.iterrows():\n",
    "    \n",
    "\n",
    "    ser_list: list[Series] = list(filter(only_series, row))\n",
    "\n",
    "    for ser in ser_list:\n",
    "\n",
    "        if len(ser) // 2 <= pd.isnull(ser).sum():\n",
    "            continue\n",
    "\n",
    "        for col in range(len(ser)):\n",
    "            print(col, len(ser[col]))"
   ]
  },
  {
   "cell_type": "code",
   "execution_count": null,
   "id": "14831703",
   "metadata": {},
   "outputs": [],
   "source": [
    "row = list(df.iterrows())\n",
    "\n",
    "\n",
    "print(row[0])\n",
    "series: Series = row[0][1]\n",
    "\n",
    "print(\"\\n\")\n",
    "print(\"null cells: \", pd.isnull(row[1][1]).sum())\n",
    "print(\"max col size\", len(row[1][1]))"
   ]
  },
  {
   "cell_type": "code",
   "execution_count": 5,
   "id": "18aae0a31ded24f",
   "metadata": {
    "ExecuteTime": {
     "end_time": "2024-07-05T21:16:22.840570Z",
     "start_time": "2024-07-05T21:16:22.835492Z"
    },
    "collapsed": false
   },
   "outputs": [
    {
     "data": {
      "text/plain": [
       "7"
      ]
     },
     "execution_count": 5,
     "metadata": {},
     "output_type": "execute_result"
    }
   ],
   "source": [
    "row = list(df.iterrows())\n",
    "\n",
    "new_df: Series = row[1][1]\n",
    "pd.isnull(new_df).sum()"
   ]
  }
 ],
 "metadata": {
  "kernelspec": {
   "display_name": "Python 3",
   "language": "python",
   "name": "python3"
  },
  "language_info": {
   "codemirror_mode": {
    "name": "ipython",
    "version": 3
   },
   "file_extension": ".py",
   "mimetype": "text/x-python",
   "name": "python",
   "nbconvert_exporter": "python",
   "pygments_lexer": "ipython3",
   "version": "3.12.3"
  }
 },
 "nbformat": 4,
 "nbformat_minor": 5
}
