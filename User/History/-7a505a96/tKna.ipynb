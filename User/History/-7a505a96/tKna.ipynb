{
 "cells": [
  {
   "cell_type": "code",
   "execution_count": 1,
   "id": "initial_id",
   "metadata": {
    "ExecuteTime": {
     "end_time": "2024-07-05T21:14:56.349115Z",
     "start_time": "2024-07-05T21:14:56.344423Z"
    },
    "collapsed": true
   },
   "outputs": [],
   "source": [
    "import pandas as pd\n",
    "import numpy as np\n",
    "from pandas import DataFrame\n",
    "from pandas.core.indexes.base import Index\n",
    "from pandas.core.series import Series\n",
    "from colorful_logging import c_print"
   ]
  },
  {
   "cell_type": "markdown",
   "id": "08c277ae",
   "metadata": {},
   "source": [
    "##### **Read EXCEL**, in this case, **khotbeh.xlsx**"
   ]
  },
  {
   "cell_type": "code",
   "execution_count": 2,
   "id": "ebc5eca1e809c3ad",
   "metadata": {
    "collapsed": false
   },
   "outputs": [],
   "source": [
    "xls: pd.ExcelFile = pd.ExcelFile(\"/home/zamoosh/Downloads/khotbeh.xlsx\")"
   ]
  },
  {
   "cell_type": "markdown",
   "id": "fa1bdcdf",
   "metadata": {},
   "source": [
    "<br />\n",
    "\n",
    "Select the sheet you want to analyze. For example, sheet named \"31\""
   ]
  },
  {
   "cell_type": "code",
   "execution_count": 12,
   "id": "89ba4f0ad01807c2",
   "metadata": {
    "ExecuteTime": {
     "end_time": "2024-07-05T20:43:21.916596Z",
     "start_time": "2024-07-05T20:43:21.893277Z"
    },
    "collapsed": false
   },
   "outputs": [],
   "source": [
    "df: DataFrame = xls.parse(\"31\", header=None)"
   ]
  },
  {
   "cell_type": "markdown",
   "id": "6bb8ed22",
   "metadata": {},
   "source": [
    "\n",
    "<br />\n",
    "\n",
    "Get rows of this sheet.\n",
    "\n",
    "Each row is a `Iterable[tuple[Hashable, Series]]`"
   ]
  },
  {
   "cell_type": "code",
   "execution_count": 24,
   "id": "63bef9fb",
   "metadata": {},
   "outputs": [
    {
     "ename": "TypeError",
     "evalue": "object of type 'int' has no len()",
     "output_type": "error",
     "traceback": [
      "\u001b[0;31m---------------------------------------------------------------------------\u001b[0m",
      "\u001b[0;31mTypeError\u001b[0m                                 Traceback (most recent call last)",
      "Cell \u001b[0;32mIn[24], line 3\u001b[0m\n\u001b[1;32m      1\u001b[0m \u001b[38;5;28;01mfor\u001b[39;00m row \u001b[38;5;129;01min\u001b[39;00m df\u001b[38;5;241m.\u001b[39miterrows():\n\u001b[1;32m      2\u001b[0m     \u001b[38;5;28;01mfor\u001b[39;00m j \u001b[38;5;129;01min\u001b[39;00m row:\n\u001b[0;32m----> 3\u001b[0m         \u001b[38;5;28mprint\u001b[39m(\u001b[38;5;28;43mlen\u001b[39;49m\u001b[43m(\u001b[49m\u001b[43mj\u001b[49m\u001b[43m)\u001b[49m)\n",
      "\u001b[0;31mTypeError\u001b[0m: object of type 'int' has no len()"
     ]
    }
   ],
   "source": [
    "for row in df.iterrows():\n",
    "    for j in row:\n",
    "        print(len(j))"
   ]
  },
  {
   "cell_type": "code",
   "execution_count": null,
   "id": "14831703",
   "metadata": {},
   "outputs": [],
   "source": [
    "row = list(df.iterrows())\n",
    "\n",
    "\n",
    "print(row[0])\n",
    "series: Series = row[0][1]\n",
    "\n",
    "print(\"\\n\")\n",
    "print(\"null cells: \", pd.isnull(row[1][1]).sum())\n",
    "print(\"max col size\", len(row[1][1]))"
   ]
  },
  {
   "cell_type": "code",
   "execution_count": 5,
   "id": "18aae0a31ded24f",
   "metadata": {
    "ExecuteTime": {
     "end_time": "2024-07-05T21:16:22.840570Z",
     "start_time": "2024-07-05T21:16:22.835492Z"
    },
    "collapsed": false
   },
   "outputs": [
    {
     "data": {
      "text/plain": [
       "7"
      ]
     },
     "execution_count": 5,
     "metadata": {},
     "output_type": "execute_result"
    }
   ],
   "source": [
    "row = list(df.iterrows())\n",
    "\n",
    "new_df: Series = row[1][1]\n",
    "pd.isnull(new_df).sum()"
   ]
  },
  {
   "cell_type": "code",
   "execution_count": 113,
   "id": "f92c241a48650193",
   "metadata": {
    "ExecuteTime": {
     "end_time": "2024-07-05T21:07:01.065931Z",
     "start_time": "2024-07-05T21:07:01.061473Z"
    },
    "collapsed": false
   },
   "outputs": [
    {
     "name": "stdout",
     "output_type": "stream",
     "text": [
      "<class 'int'>\n",
      "<class 'pandas.core.series.Series'>\n"
     ]
    }
   ],
   "source": [
    "for i in row[1]:\n",
    "    print(type(i))"
   ]
  },
  {
   "cell_type": "code",
   "execution_count": 124,
   "id": "894ba8092acee15f",
   "metadata": {
    "ExecuteTime": {
     "end_time": "2024-07-05T21:11:33.039142Z",
     "start_time": "2024-07-05T21:11:33.036028Z"
    },
    "collapsed": false
   },
   "outputs": [
    {
     "data": {
      "text/plain": [
       "Pandas(Index=1, _1=nan, _2=nan, _3=nan, _4=nan, _5='\\n', _6=nan, _7=nan, _8=nan)"
      ]
     },
     "execution_count": 124,
     "metadata": {},
     "output_type": "execute_result"
    }
   ],
   "source": [
    "rows = list(df.itertuples())\n",
    "rows[1]"
   ]
  },
  {
   "cell_type": "code",
   "execution_count": 47,
   "id": "c7b573f810ef0f15",
   "metadata": {
    "ExecuteTime": {
     "end_time": "2024-07-05T20:55:25.386838Z",
     "start_time": "2024-07-05T20:55:25.378700Z"
    },
    "collapsed": false
   },
   "outputs": [
    {
     "data": {
      "text/plain": [
       "(array([1, 1, 1, 1, 1, 1, 1]), array([0, 1, 2, 3, 5, 6, 7]))"
      ]
     },
     "execution_count": 47,
     "metadata": {},
     "output_type": "execute_result"
    }
   ],
   "source": [
    "np.where(pd.isnull(df))"
   ]
  }
 ],
 "metadata": {
  "kernelspec": {
   "display_name": "Python 3",
   "language": "python",
   "name": "python3"
  },
  "language_info": {
   "codemirror_mode": {
    "name": "ipython",
    "version": 3
   },
   "file_extension": ".py",
   "mimetype": "text/x-python",
   "name": "python",
   "nbconvert_exporter": "python",
   "pygments_lexer": "ipython3",
   "version": "3.12.3"
  }
 },
 "nbformat": 4,
 "nbformat_minor": 5
}
