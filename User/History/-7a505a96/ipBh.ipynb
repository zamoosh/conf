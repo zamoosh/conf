{
 "cells": [
  {
   "cell_type": "code",
   "execution_count": 1,
   "id": "initial_id",
   "metadata": {
    "ExecuteTime": {
     "end_time": "2024-07-05T21:14:56.349115Z",
     "start_time": "2024-07-05T21:14:56.344423Z"
    },
    "collapsed": true
   },
   "outputs": [],
   "source": [
    "import pandas as pd\n",
    "import numpy as np\n",
    "from pandas import DataFrame\n",
    "from pandas.core.indexes.base import Index\n",
    "from pandas.core.series import Series\n",
    "from typing import Any\n",
    "from colorful_logging import c_print"
   ]
  },
  {
   "cell_type": "markdown",
   "id": "08c277ae",
   "metadata": {},
   "source": [
    "##### **Read EXCEL**, in this case, **khotbeh.xlsx**"
   ]
  },
  {
   "cell_type": "code",
   "execution_count": 2,
   "id": "ebc5eca1e809c3ad",
   "metadata": {
    "collapsed": false
   },
   "outputs": [],
   "source": [
    "xls: pd.ExcelFile = pd.ExcelFile(\"/home/zamoosh/Downloads/khotbeh.xlsx\")"
   ]
  },
  {
   "cell_type": "markdown",
   "id": "fa1bdcdf",
   "metadata": {},
   "source": [
    "<br />\n",
    "\n",
    "Select the sheet you want to analyze. For example, sheet named \"31\""
   ]
  },
  {
   "cell_type": "code",
   "execution_count": 4,
   "id": "89ba4f0ad01807c2",
   "metadata": {
    "ExecuteTime": {
     "end_time": "2024-07-05T20:43:21.916596Z",
     "start_time": "2024-07-05T20:43:21.893277Z"
    },
    "collapsed": false
   },
   "outputs": [],
   "source": [
    "df: DataFrame = xls.parse(\"33\", header=None)"
   ]
  },
  {
   "cell_type": "markdown",
   "id": "6bb8ed22",
   "metadata": {},
   "source": [
    "\n",
    "<br />\n",
    "\n",
    "Get rows of this sheet.\n",
    "\n",
    "Each row is a `Iterable[tuple[Hashable, Series]]`"
   ]
  },
  {
   "cell_type": "code",
   "execution_count": 5,
   "id": "3e69a8c6",
   "metadata": {},
   "outputs": [
    {
     "data": {
      "text/html": [
       "<div>\n",
       "<style scoped>\n",
       "    .dataframe tbody tr th:only-of-type {\n",
       "        vertical-align: middle;\n",
       "    }\n",
       "\n",
       "    .dataframe tbody tr th {\n",
       "        vertical-align: top;\n",
       "    }\n",
       "\n",
       "    .dataframe thead th {\n",
       "        text-align: right;\n",
       "    }\n",
       "</style>\n",
       "<table border=\"1\" class=\"dataframe\">\n",
       "  <thead>\n",
       "    <tr style=\"text-align: right;\">\n",
       "      <th></th>\n",
       "      <th>0</th>\n",
       "      <th>1</th>\n",
       "      <th>2</th>\n",
       "      <th>3</th>\n",
       "      <th>4</th>\n",
       "      <th>5</th>\n",
       "    </tr>\n",
       "  </thead>\n",
       "  <tbody>\n",
       "    <tr>\n",
       "      <th>0</th>\n",
       "      <td>و من خطبة له (عليه السلام) عند خروجه لقتال أهل...</td>\n",
       "      <td>(در سال 36 هجرى به هنگام عزيمت به شهر بصره، جه...</td>\n",
       "      <td>NaN</td>\n",
       "      <td>NaN</td>\n",
       "      <td>قَالَ عَبْدُ اللَّهِ بْنُ عَبَّاسِ دَخَلْتُ عَ...</td>\n",
       "      <td>«ابن عباس مى گويد در سرزمين «ذى قار» ، خدمت ام...</td>\n",
       "    </tr>\n",
       "    <tr>\n",
       "      <th>1</th>\n",
       "      <td>x</td>\n",
       "      <td>x</td>\n",
       "      <td>الغایة من ارسال النبی(صلی الله علیه و آله و سلم)</td>\n",
       "      <td>آثار بعثت پيامبر اسلام</td>\n",
       "      <td>إِنَّ اللَّهَ بَعَثَ مُحَمَّداً (صلى الله عليه...</td>\n",
       "      <td>همانا خداوند هنگامى محمد (صلّى اللّه عليه و آل...</td>\n",
       "    </tr>\n",
       "    <tr>\n",
       "      <th>2</th>\n",
       "      <td>x</td>\n",
       "      <td>x</td>\n",
       "      <td>خصائص الامام علی (علیه السلام) العسکریة</td>\n",
       "      <td>ويژگى هاى نظامى و اخلاقى امام على عليه السّلام</td>\n",
       "      <td>أَمَا وَ اللَّهِ إِنْ كُنْتُ لَفِي سَاقَتِهَا ...</td>\n",
       "      <td>به خدا سوگند من از پيشتازان لشكر اسلام بودم تا...</td>\n",
       "    </tr>\n",
       "    <tr>\n",
       "      <th>3</th>\n",
       "      <td>x</td>\n",
       "      <td>x</td>\n",
       "      <td>الشکوی من قریش</td>\n",
       "      <td>شكوه از فتنه گرى قريش</td>\n",
       "      <td>مَا لِي وَ لِقُرَيْشٍ وَ اللَّهِ لَقَدْ قَاتَل...</td>\n",
       "      <td>مرا با قريش چه كار. به خدا سوگند، آن روز كه كا...</td>\n",
       "    </tr>\n",
       "  </tbody>\n",
       "</table>\n",
       "</div>"
      ],
      "text/plain": [
       "                                                   0  \\\n",
       "0  و من خطبة له (عليه السلام) عند خروجه لقتال أهل...   \n",
       "1                                                  x   \n",
       "2                                                  x   \n",
       "3                                                  x   \n",
       "\n",
       "                                                   1  \\\n",
       "0  (در سال 36 هجرى به هنگام عزيمت به شهر بصره، جه...   \n",
       "1                                                  x   \n",
       "2                                                  x   \n",
       "3                                                  x   \n",
       "\n",
       "                                                  2  \\\n",
       "0                                               NaN   \n",
       "1  الغایة من ارسال النبی(صلی الله علیه و آله و سلم)   \n",
       "2           خصائص الامام علی (علیه السلام) العسکریة   \n",
       "3                                    الشکوی من قریش   \n",
       "\n",
       "                                                3  \\\n",
       "0                                             NaN   \n",
       "1                          آثار بعثت پيامبر اسلام   \n",
       "2  ويژگى هاى نظامى و اخلاقى امام على عليه السّلام   \n",
       "3                           شكوه از فتنه گرى قريش   \n",
       "\n",
       "                                                   4  \\\n",
       "0  قَالَ عَبْدُ اللَّهِ بْنُ عَبَّاسِ دَخَلْتُ عَ...   \n",
       "1  إِنَّ اللَّهَ بَعَثَ مُحَمَّداً (صلى الله عليه...   \n",
       "2  أَمَا وَ اللَّهِ إِنْ كُنْتُ لَفِي سَاقَتِهَا ...   \n",
       "3  مَا لِي وَ لِقُرَيْشٍ وَ اللَّهِ لَقَدْ قَاتَل...   \n",
       "\n",
       "                                                   5  \n",
       "0  «ابن عباس مى گويد در سرزمين «ذى قار» ، خدمت ام...  \n",
       "1  همانا خداوند هنگامى محمد (صلّى اللّه عليه و آل...  \n",
       "2  به خدا سوگند من از پيشتازان لشكر اسلام بودم تا...  \n",
       "3  مرا با قريش چه كار. به خدا سوگند، آن روز كه كا...  "
      ]
     },
     "execution_count": 5,
     "metadata": {},
     "output_type": "execute_result"
    }
   ],
   "source": [
    "df"
   ]
  },
  {
   "cell_type": "code",
   "execution_count": 8,
   "id": "42973b11",
   "metadata": {},
   "outputs": [
    {
     "data": {
      "text/html": [
       "<div>\n",
       "<style scoped>\n",
       "    .dataframe tbody tr th:only-of-type {\n",
       "        vertical-align: middle;\n",
       "    }\n",
       "\n",
       "    .dataframe tbody tr th {\n",
       "        vertical-align: top;\n",
       "    }\n",
       "\n",
       "    .dataframe thead th {\n",
       "        text-align: right;\n",
       "    }\n",
       "</style>\n",
       "<table border=\"1\" class=\"dataframe\">\n",
       "  <thead>\n",
       "    <tr style=\"text-align: right;\">\n",
       "      <th></th>\n",
       "      <th>0</th>\n",
       "      <th>1</th>\n",
       "      <th>2</th>\n",
       "      <th>3</th>\n",
       "      <th>4</th>\n",
       "      <th>5</th>\n",
       "    </tr>\n",
       "  </thead>\n",
       "  <tbody>\n",
       "    <tr>\n",
       "      <th>0</th>\n",
       "      <td>و من خطبة له (عليه السلام) عند خروجه لقتال أهل...</td>\n",
       "      <td>(در سال 36 هجرى به هنگام عزيمت به شهر بصره، جه...</td>\n",
       "      <td></td>\n",
       "      <td></td>\n",
       "      <td>قَالَ عَبْدُ اللَّهِ بْنُ عَبَّاسِ دَخَلْتُ عَ...</td>\n",
       "      <td>«ابن عباس مى گويد در سرزمين «ذى قار» ، خدمت ام...</td>\n",
       "    </tr>\n",
       "    <tr>\n",
       "      <th>1</th>\n",
       "      <td>x</td>\n",
       "      <td>x</td>\n",
       "      <td>الغایة من ارسال النبی(صلی الله علیه و آله و سلم)</td>\n",
       "      <td>آثار بعثت پيامبر اسلام</td>\n",
       "      <td>إِنَّ اللَّهَ بَعَثَ مُحَمَّداً (صلى الله عليه...</td>\n",
       "      <td>همانا خداوند هنگامى محمد (صلّى اللّه عليه و آل...</td>\n",
       "    </tr>\n",
       "    <tr>\n",
       "      <th>2</th>\n",
       "      <td>x</td>\n",
       "      <td>x</td>\n",
       "      <td>خصائص الامام علی (علیه السلام) العسکریة</td>\n",
       "      <td>ويژگى هاى نظامى و اخلاقى امام على عليه السّلام</td>\n",
       "      <td>أَمَا وَ اللَّهِ إِنْ كُنْتُ لَفِي سَاقَتِهَا ...</td>\n",
       "      <td>به خدا سوگند من از پيشتازان لشكر اسلام بودم تا...</td>\n",
       "    </tr>\n",
       "    <tr>\n",
       "      <th>3</th>\n",
       "      <td>x</td>\n",
       "      <td>x</td>\n",
       "      <td>الشکوی من قریش</td>\n",
       "      <td>شكوه از فتنه گرى قريش</td>\n",
       "      <td>مَا لِي وَ لِقُرَيْشٍ وَ اللَّهِ لَقَدْ قَاتَل...</td>\n",
       "      <td>مرا با قريش چه كار. به خدا سوگند، آن روز كه كا...</td>\n",
       "    </tr>\n",
       "  </tbody>\n",
       "</table>\n",
       "</div>"
      ],
      "text/plain": [
       "                                                   0  \\\n",
       "0  و من خطبة له (عليه السلام) عند خروجه لقتال أهل...   \n",
       "1                                                  x   \n",
       "2                                                  x   \n",
       "3                                                  x   \n",
       "\n",
       "                                                   1  \\\n",
       "0  (در سال 36 هجرى به هنگام عزيمت به شهر بصره، جه...   \n",
       "1                                                  x   \n",
       "2                                                  x   \n",
       "3                                                  x   \n",
       "\n",
       "                                                  2  \\\n",
       "0                                                     \n",
       "1  الغایة من ارسال النبی(صلی الله علیه و آله و سلم)   \n",
       "2           خصائص الامام علی (علیه السلام) العسکریة   \n",
       "3                                    الشکوی من قریش   \n",
       "\n",
       "                                                3  \\\n",
       "0                                                   \n",
       "1                          آثار بعثت پيامبر اسلام   \n",
       "2  ويژگى هاى نظامى و اخلاقى امام على عليه السّلام   \n",
       "3                           شكوه از فتنه گرى قريش   \n",
       "\n",
       "                                                   4  \\\n",
       "0  قَالَ عَبْدُ اللَّهِ بْنُ عَبَّاسِ دَخَلْتُ عَ...   \n",
       "1  إِنَّ اللَّهَ بَعَثَ مُحَمَّداً (صلى الله عليه...   \n",
       "2  أَمَا وَ اللَّهِ إِنْ كُنْتُ لَفِي سَاقَتِهَا ...   \n",
       "3  مَا لِي وَ لِقُرَيْشٍ وَ اللَّهِ لَقَدْ قَاتَل...   \n",
       "\n",
       "                                                   5  \n",
       "0  «ابن عباس مى گويد در سرزمين «ذى قار» ، خدمت ام...  \n",
       "1  همانا خداوند هنگامى محمد (صلّى اللّه عليه و آل...  \n",
       "2  به خدا سوگند من از پيشتازان لشكر اسلام بودم تا...  \n",
       "3  مرا با قريش چه كار. به خدا سوگند، آن روز كه كا...  "
      ]
     },
     "execution_count": 8,
     "metadata": {},
     "output_type": "execute_result"
    }
   ],
   "source": [
    "df.fillna(\"\")"
   ]
  },
  {
   "cell_type": "code",
   "execution_count": 5,
   "id": "63bef9fb",
   "metadata": {},
   "outputs": [
    {
     "name": "stdout",
     "output_type": "stream",
     "text": [
      "0 98\n",
      "1 90\n",
      "2 19\n",
      "3 21\n",
      "4 312\n",
      "5 299\n",
      "6 91\n",
      "7 115\n"
     ]
    }
   ],
   "source": [
    "def only_series(item):\n",
    "    if type(item) == Series:\n",
    "        return True\n",
    "    else:\n",
    "        return False\n",
    "\n",
    "\n",
    "for row in df.iterrows():\n",
    "    \n",
    "\n",
    "    ser_list: list[Series] = list(filter(only_series, row))\n",
    "\n",
    "    for ser in ser_list:\n",
    "\n",
    "        if len(ser) // 2 <= pd.isnull(ser).sum():\n",
    "            continue\n",
    "\n",
    "        for col in range(len(ser)):\n",
    "            print(col, len(ser[col]))"
   ]
  },
  {
   "cell_type": "code",
   "execution_count": null,
   "id": "14831703",
   "metadata": {},
   "outputs": [],
   "source": [
    "row = list(df.iterrows())\n",
    "\n",
    "\n",
    "print(row[0])\n",
    "series: Series = row[0][1]\n",
    "\n",
    "print(\"\\n\")\n",
    "print(\"null cells: \", pd.isnull(row[1][1]).sum())\n",
    "print(\"max col size\", len(row[1][1]))"
   ]
  },
  {
   "cell_type": "code",
   "execution_count": 5,
   "id": "18aae0a31ded24f",
   "metadata": {
    "ExecuteTime": {
     "end_time": "2024-07-05T21:16:22.840570Z",
     "start_time": "2024-07-05T21:16:22.835492Z"
    },
    "collapsed": false
   },
   "outputs": [
    {
     "data": {
      "text/plain": [
       "7"
      ]
     },
     "execution_count": 5,
     "metadata": {},
     "output_type": "execute_result"
    }
   ],
   "source": [
    "row = list(df.iterrows())\n",
    "\n",
    "new_df: Series = row[1][1]\n",
    "pd.isnull(new_df).sum()"
   ]
  }
 ],
 "metadata": {
  "kernelspec": {
   "display_name": "Python 3",
   "language": "python",
   "name": "python3"
  },
  "language_info": {
   "codemirror_mode": {
    "name": "ipython",
    "version": 3
   },
   "file_extension": ".py",
   "mimetype": "text/x-python",
   "name": "python",
   "nbconvert_exporter": "python",
   "pygments_lexer": "ipython3",
   "version": "3.12.3"
  }
 },
 "nbformat": 4,
 "nbformat_minor": 5
}
